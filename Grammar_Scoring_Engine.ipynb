{
  "cells": [
    {
      "cell_type": "markdown",
      "metadata": {
        "id": "sMWfrTvy3KlX"
      },
      "source": [
        "# Project Report: Grammar Scoring Engine"
      ]
    },
    {
      "cell_type": "markdown",
      "metadata": {
        "id": "PqjQOruZ3PJJ"
      },
      "source": [
        "## Objective"
      ]
    },
    {
      "cell_type": "markdown",
      "metadata": {
        "id": "yomvHGhT3SBD"
      },
      "source": [
        "The goal of this project is to develop a Grammar Scoring Engine that evaluates the grammatical quality of spoken English based on audio inputs. The model predicts a continuous score between 0 and 5, adhering to a MOS Likert Grammar rubric."
      ]
    },
    {
      "cell_type": "markdown",
      "metadata": {
        "id": "mZ77YE2e3Uu8"
      },
      "source": [
        "## Dataset Description"
      ]
    },
    {
      "cell_type": "markdown",
      "metadata": {
        "id": "9Z8XalQd3XMz"
      },
      "source": [
        "* Audio Format: .wav files (45-60 seconds)   \n",
        "\n",
        "* Training Samples: 444\n",
        "\n",
        "* Testing Samples: 195\n",
        "\n",
        "* Labels: Grammar scores (0–5) based on a predefined rubric.\n",
        "\n"
      ]
    },
    {
      "cell_type": "markdown",
      "metadata": {
        "id": "r8f90onR3mgE"
      },
      "source": [
        "## Preprocessing Steps"
      ]
    },
    {
      "cell_type": "markdown",
      "metadata": {
        "id": "IIO91uuR3pn3"
      },
      "source": [
        "1. Audio Loading:\n",
        "Audio samples were loaded using librosa at a sampling rate of 16kHz.\n",
        "\n",
        "2. Feature Extraction (HuBERT):\n",
        "Extracted semantic audio embeddings from the pretrained model facebook/hubert-base-ls960 using Hugging Face Transformers.\n",
        "\n",
        "3. Padding/Truncating:\n",
        "Embeddings were padded or truncated to ensure uniform input length for the model.\n",
        "\n",
        "4. Normalization:\n",
        "Features were normalized using MinMaxScaler for better model convergence."
      ]
    },
    {
      "cell_type": "markdown",
      "metadata": {
        "id": "c-YyPk5A3yds"
      },
      "source": [
        "## Model Architecture (MLP Regressor)"
      ]
    },
    {
      "cell_type": "markdown",
      "metadata": {
        "id": "vfy3fMOl31-U"
      },
      "source": [
        "* Type: Multi-layer Perceptron\n",
        "\n",
        "* Framework: scikit-learn\n",
        "\n",
        "* Configuration:\n",
        "\n",
        " * hidden_layer_sizes=(256, 128)\n",
        "\n",
        " * activation='relu'\n",
        "\n",
        " * solver='adam'\n",
        "\n",
        " * max_iter=500\n",
        "\n",
        "* Output: Single continuous value representing grammar score."
      ]
    },
    {
      "cell_type": "markdown",
      "metadata": {
        "id": "Ehg8eoA_4DjT"
      },
      "source": [
        "## Evaluation Metrics"
      ]
    },
    {
      "cell_type": "markdown",
      "metadata": {
        "id": "_cZRX4VD4LWV"
      },
      "source": [
        "The model was evaluated using the following metrics:\n",
        "\n",
        "* MSE (Mean Squared Error): Measures the average squared difference between actual and predicted values.\n",
        "\n",
        "* MAE (Mean Absolute Error): Measures the average absolute error.\n",
        "\n",
        "* R² Score: Represents the proportion of variance explained by the model."
      ]
    },
    {
      "cell_type": "markdown",
      "metadata": {
        "id": "eSnSt2394ZQ2"
      },
      "source": [
        "## Training Results"
      ]
    },
    {
      "cell_type": "markdown",
      "metadata": {
        "id": "ClQ2q7LK4ewc"
      },
      "source": [
        "* MSE: 0.0002\n",
        "\n",
        "* MAE: 0.0090\n",
        "\n",
        "* R² Score: 0.9998"
      ]
    },
    {
      "cell_type": "markdown",
      "metadata": {
        "id": "7TEPg2xx4mP_"
      },
      "source": [
        "## Predictions on Test Data"
      ]
    },
    {
      "cell_type": "markdown",
      "metadata": {
        "id": "xwWOnePE4oee"
      },
      "source": [
        "The trained model was used to predict grammar scores for the 195 test samples. The predictions were saved in the required submission format (sample_submission.csv), containing two columns: filename and grammar_score."
      ]
    },
    {
      "cell_type": "markdown",
      "metadata": {
        "id": "ZkXyfjag4swg"
      },
      "source": [
        "## Submission"
      ]
    },
    {
      "cell_type": "markdown",
      "metadata": {
        "id": "UnP_K0604uwx"
      },
      "source": [
        "The generated predictions CSV file is formatted and ready for submission to the competition leaderboard."
      ]
    },
    {
      "cell_type": "markdown",
      "metadata": {
        "id": "-u4ACAP24w-I"
      },
      "source": [
        "## Future Work Suggestions"
      ]
    },
    {
      "cell_type": "markdown",
      "metadata": {
        "id": "chtCq1ch4zUY"
      },
      "source": [
        "* Fine-tune HuBERT on the specific dataset\n",
        "\n",
        "* Use data augmentation to increase robustness\n",
        "\n",
        "* Try advanced regressors like Gradient Boosting or ensemble methods\n",
        "\n",
        "* Explore metrics like Spearman rank correlation"
      ]
    },
    {
      "cell_type": "code",
      "execution_count": 1,
      "metadata": {
        "colab": {
          "base_uri": "https://localhost:8080/"
        },
        "collapsed": true,
        "id": "rzMsTaMDr9hZ",
        "outputId": "34ad7762-c18c-4e1d-9903-acf1290df43b"
      },
      "outputs": [
        {
          "name": "stdout",
          "output_type": "stream",
          "text": [
            "Requirement already satisfied: librosa in c:\\users\\chhaj\\anaconda3\\lib\\site-packages (0.11.0)\n",
            "Requirement already satisfied: soundfile in c:\\users\\chhaj\\anaconda3\\lib\\site-packages (0.13.1)\n",
            "Requirement already satisfied: xgboost in c:\\users\\chhaj\\anaconda3\\lib\\site-packages (3.0.0)\n",
            "Requirement already satisfied: scikit-learn in c:\\users\\chhaj\\anaconda3\\lib\\site-packages (1.4.2)\n",
            "Requirement already satisfied: pandas in c:\\users\\chhaj\\anaconda3\\lib\\site-packages (2.2.2)\n",
            "Requirement already satisfied: numpy in c:\\users\\chhaj\\anaconda3\\lib\\site-packages (1.26.4)\n",
            "Requirement already satisfied: matplotlib in c:\\users\\chhaj\\anaconda3\\lib\\site-packages (3.8.4)\n",
            "Requirement already satisfied: seaborn in c:\\users\\chhaj\\anaconda3\\lib\\site-packages (0.13.2)\n",
            "Requirement already satisfied: transformers in c:\\users\\chhaj\\anaconda3\\lib\\site-packages (4.51.0)\n",
            "Requirement already satisfied: torchaudio in c:\\users\\chhaj\\anaconda3\\lib\\site-packages (2.6.0)\n",
            "Requirement already satisfied: tensorflow in c:\\users\\chhaj\\appdata\\roaming\\python\\python312\\site-packages (2.18.0)\n",
            "Requirement already satisfied: audioread>=2.1.9 in c:\\users\\chhaj\\anaconda3\\lib\\site-packages (from librosa) (3.0.1)\n",
            "Requirement already satisfied: numba>=0.51.0 in c:\\users\\chhaj\\anaconda3\\lib\\site-packages (from librosa) (0.59.1)\n",
            "Requirement already satisfied: scipy>=1.6.0 in c:\\users\\chhaj\\anaconda3\\lib\\site-packages (from librosa) (1.13.1)\n",
            "Requirement already satisfied: joblib>=1.0 in c:\\users\\chhaj\\anaconda3\\lib\\site-packages (from librosa) (1.4.2)\n",
            "Requirement already satisfied: decorator>=4.3.0 in c:\\users\\chhaj\\appdata\\roaming\\python\\python312\\site-packages (from librosa) (5.1.1)\n",
            "Requirement already satisfied: pooch>=1.1 in c:\\users\\chhaj\\anaconda3\\lib\\site-packages (from librosa) (1.8.2)\n",
            "Requirement already satisfied: soxr>=0.3.2 in c:\\users\\chhaj\\anaconda3\\lib\\site-packages (from librosa) (0.5.0.post1)\n",
            "Requirement already satisfied: typing_extensions>=4.1.1 in c:\\users\\chhaj\\anaconda3\\lib\\site-packages (from librosa) (4.11.0)\n",
            "Requirement already satisfied: lazy_loader>=0.1 in c:\\users\\chhaj\\appdata\\roaming\\python\\python312\\site-packages (from librosa) (0.4)\n",
            "Requirement already satisfied: msgpack>=1.0 in c:\\users\\chhaj\\anaconda3\\lib\\site-packages (from librosa) (1.0.3)\n",
            "Requirement already satisfied: cffi>=1.0 in c:\\users\\chhaj\\anaconda3\\lib\\site-packages (from soundfile) (1.16.0)\n",
            "Requirement already satisfied: threadpoolctl>=2.0.0 in c:\\users\\chhaj\\anaconda3\\lib\\site-packages (from scikit-learn) (2.2.0)\n",
            "Requirement already satisfied: python-dateutil>=2.8.2 in c:\\users\\chhaj\\anaconda3\\lib\\site-packages (from pandas) (2.9.0.post0)\n",
            "Requirement already satisfied: pytz>=2020.1 in c:\\users\\chhaj\\anaconda3\\lib\\site-packages (from pandas) (2024.1)\n",
            "Requirement already satisfied: tzdata>=2022.7 in c:\\users\\chhaj\\anaconda3\\lib\\site-packages (from pandas) (2023.3)\n",
            "Requirement already satisfied: contourpy>=1.0.1 in c:\\users\\chhaj\\anaconda3\\lib\\site-packages (from matplotlib) (1.2.0)\n",
            "Requirement already satisfied: cycler>=0.10 in c:\\users\\chhaj\\anaconda3\\lib\\site-packages (from matplotlib) (0.11.0)\n",
            "Requirement already satisfied: fonttools>=4.22.0 in c:\\users\\chhaj\\anaconda3\\lib\\site-packages (from matplotlib) (4.51.0)\n",
            "Requirement already satisfied: kiwisolver>=1.3.1 in c:\\users\\chhaj\\anaconda3\\lib\\site-packages (from matplotlib) (1.4.4)\n",
            "Requirement already satisfied: packaging>=20.0 in c:\\users\\chhaj\\anaconda3\\lib\\site-packages (from matplotlib) (23.2)\n",
            "Requirement already satisfied: pillow>=8 in c:\\users\\chhaj\\anaconda3\\lib\\site-packages (from matplotlib) (10.3.0)\n",
            "Requirement already satisfied: pyparsing>=2.3.1 in c:\\users\\chhaj\\anaconda3\\lib\\site-packages (from matplotlib) (3.0.9)\n",
            "Requirement already satisfied: filelock in c:\\users\\chhaj\\anaconda3\\lib\\site-packages (from transformers) (3.13.1)\n",
            "Requirement already satisfied: huggingface-hub<1.0,>=0.30.0 in c:\\users\\chhaj\\anaconda3\\lib\\site-packages (from transformers) (0.30.1)\n",
            "Requirement already satisfied: pyyaml>=5.1 in c:\\users\\chhaj\\anaconda3\\lib\\site-packages (from transformers) (6.0.1)\n",
            "Requirement already satisfied: regex!=2019.12.17 in c:\\users\\chhaj\\anaconda3\\lib\\site-packages (from transformers) (2023.10.3)\n",
            "Requirement already satisfied: requests in c:\\users\\chhaj\\appdata\\roaming\\python\\python312\\site-packages (from transformers) (2.32.3)\n",
            "Requirement already satisfied: tokenizers<0.22,>=0.21 in c:\\users\\chhaj\\anaconda3\\lib\\site-packages (from transformers) (0.21.1)\n",
            "Requirement already satisfied: safetensors>=0.4.3 in c:\\users\\chhaj\\anaconda3\\lib\\site-packages (from transformers) (0.5.3)\n",
            "Requirement already satisfied: tqdm>=4.27 in c:\\users\\chhaj\\anaconda3\\lib\\site-packages (from transformers) (4.66.4)\n",
            "Requirement already satisfied: torch==2.6.0 in c:\\users\\chhaj\\anaconda3\\lib\\site-packages (from torchaudio) (2.6.0)\n",
            "Requirement already satisfied: networkx in c:\\users\\chhaj\\anaconda3\\lib\\site-packages (from torch==2.6.0->torchaudio) (3.2.1)\n",
            "Requirement already satisfied: jinja2 in c:\\users\\chhaj\\anaconda3\\lib\\site-packages (from torch==2.6.0->torchaudio) (3.1.4)\n",
            "Requirement already satisfied: fsspec in c:\\users\\chhaj\\anaconda3\\lib\\site-packages (from torch==2.6.0->torchaudio) (2024.3.1)\n",
            "Requirement already satisfied: setuptools in c:\\users\\chhaj\\anaconda3\\lib\\site-packages (from torch==2.6.0->torchaudio) (69.5.1)\n",
            "Requirement already satisfied: sympy==1.13.1 in c:\\users\\chhaj\\anaconda3\\lib\\site-packages (from torch==2.6.0->torchaudio) (1.13.1)\n",
            "Requirement already satisfied: mpmath<1.4,>=1.1.0 in c:\\users\\chhaj\\anaconda3\\lib\\site-packages (from sympy==1.13.1->torch==2.6.0->torchaudio) (1.3.0)\n",
            "Requirement already satisfied: tensorflow-intel==2.18.0 in c:\\users\\chhaj\\appdata\\roaming\\python\\python312\\site-packages (from tensorflow) (2.18.0)\n",
            "Requirement already satisfied: absl-py>=1.0.0 in c:\\users\\chhaj\\appdata\\roaming\\python\\python312\\site-packages (from tensorflow-intel==2.18.0->tensorflow) (2.1.0)\n",
            "Requirement already satisfied: astunparse>=1.6.0 in c:\\users\\chhaj\\appdata\\roaming\\python\\python312\\site-packages (from tensorflow-intel==2.18.0->tensorflow) (1.6.3)\n",
            "Requirement already satisfied: flatbuffers>=24.3.25 in c:\\users\\chhaj\\anaconda3\\lib\\site-packages (from tensorflow-intel==2.18.0->tensorflow) (25.2.10)\n",
            "Requirement already satisfied: gast!=0.5.0,!=0.5.1,!=0.5.2,>=0.2.1 in c:\\users\\chhaj\\appdata\\roaming\\python\\python312\\site-packages (from tensorflow-intel==2.18.0->tensorflow) (0.6.0)\n",
            "Requirement already satisfied: google-pasta>=0.1.1 in c:\\users\\chhaj\\appdata\\roaming\\python\\python312\\site-packages (from tensorflow-intel==2.18.0->tensorflow) (0.2.0)\n",
            "Requirement already satisfied: libclang>=13.0.0 in c:\\users\\chhaj\\anaconda3\\lib\\site-packages (from tensorflow-intel==2.18.0->tensorflow) (18.1.1)\n",
            "Requirement already satisfied: opt-einsum>=2.3.2 in c:\\users\\chhaj\\appdata\\roaming\\python\\python312\\site-packages (from tensorflow-intel==2.18.0->tensorflow) (3.4.0)\n",
            "Requirement already satisfied: protobuf!=4.21.0,!=4.21.1,!=4.21.2,!=4.21.3,!=4.21.4,!=4.21.5,<6.0.0dev,>=3.20.3 in c:\\users\\chhaj\\appdata\\roaming\\python\\python312\\site-packages (from tensorflow-intel==2.18.0->tensorflow) (5.28.3)\n",
            "Requirement already satisfied: six>=1.12.0 in c:\\users\\chhaj\\anaconda3\\lib\\site-packages (from tensorflow-intel==2.18.0->tensorflow) (1.16.0)\n",
            "Requirement already satisfied: termcolor>=1.1.0 in c:\\users\\chhaj\\appdata\\roaming\\python\\python312\\site-packages (from tensorflow-intel==2.18.0->tensorflow) (2.5.0)\n",
            "Requirement already satisfied: wrapt>=1.11.0 in c:\\users\\chhaj\\anaconda3\\lib\\site-packages (from tensorflow-intel==2.18.0->tensorflow) (1.14.1)\n",
            "Requirement already satisfied: grpcio<2.0,>=1.24.3 in c:\\users\\chhaj\\anaconda3\\lib\\site-packages (from tensorflow-intel==2.18.0->tensorflow) (1.71.0)\n",
            "Requirement already satisfied: tensorboard<2.19,>=2.18 in c:\\users\\chhaj\\appdata\\roaming\\python\\python312\\site-packages (from tensorflow-intel==2.18.0->tensorflow) (2.18.0)\n",
            "Requirement already satisfied: keras>=3.5.0 in c:\\users\\chhaj\\appdata\\roaming\\python\\python312\\site-packages (from tensorflow-intel==2.18.0->tensorflow) (3.6.0)\n",
            "Requirement already satisfied: h5py>=3.11.0 in c:\\users\\chhaj\\appdata\\roaming\\python\\python312\\site-packages (from tensorflow-intel==2.18.0->tensorflow) (3.12.1)\n",
            "Requirement already satisfied: ml-dtypes<0.5.0,>=0.4.0 in c:\\users\\chhaj\\appdata\\roaming\\python\\python312\\site-packages (from tensorflow-intel==2.18.0->tensorflow) (0.4.1)\n",
            "Requirement already satisfied: pycparser in c:\\users\\chhaj\\anaconda3\\lib\\site-packages (from cffi>=1.0->soundfile) (2.21)\n",
            "Requirement already satisfied: llvmlite<0.43,>=0.42.0dev0 in c:\\users\\chhaj\\anaconda3\\lib\\site-packages (from numba>=0.51.0->librosa) (0.42.0)\n",
            "Requirement already satisfied: platformdirs>=2.5.0 in c:\\users\\chhaj\\appdata\\roaming\\python\\python312\\site-packages (from pooch>=1.1->librosa) (4.3.2)\n",
            "Requirement already satisfied: charset-normalizer<4,>=2 in c:\\users\\chhaj\\appdata\\roaming\\python\\python312\\site-packages (from requests->transformers) (3.4.0)\n",
            "Requirement already satisfied: idna<4,>=2.5 in c:\\users\\chhaj\\appdata\\roaming\\python\\python312\\site-packages (from requests->transformers) (3.10)\n",
            "Requirement already satisfied: urllib3<3,>=1.21.1 in c:\\users\\chhaj\\anaconda3\\lib\\site-packages (from requests->transformers) (2.2.2)\n",
            "Requirement already satisfied: certifi>=2017.4.17 in c:\\users\\chhaj\\appdata\\roaming\\python\\python312\\site-packages (from requests->transformers) (2024.8.30)\n",
            "Requirement already satisfied: colorama in c:\\users\\chhaj\\appdata\\roaming\\python\\python312\\site-packages (from tqdm>=4.27->transformers) (0.4.6)\n",
            "Requirement already satisfied: wheel<1.0,>=0.23.0 in c:\\users\\chhaj\\anaconda3\\lib\\site-packages (from astunparse>=1.6.0->tensorflow-intel==2.18.0->tensorflow) (0.43.0)\n",
            "Requirement already satisfied: rich in c:\\users\\chhaj\\appdata\\roaming\\python\\python312\\site-packages (from keras>=3.5.0->tensorflow-intel==2.18.0->tensorflow) (13.9.4)\n",
            "Requirement already satisfied: namex in c:\\users\\chhaj\\anaconda3\\lib\\site-packages (from keras>=3.5.0->tensorflow-intel==2.18.0->tensorflow) (0.0.8)\n",
            "Requirement already satisfied: optree in c:\\users\\chhaj\\appdata\\roaming\\python\\python312\\site-packages (from keras>=3.5.0->tensorflow-intel==2.18.0->tensorflow) (0.13.0)\n",
            "Requirement already satisfied: markdown>=2.6.8 in c:\\users\\chhaj\\appdata\\roaming\\python\\python312\\site-packages (from tensorboard<2.19,>=2.18->tensorflow-intel==2.18.0->tensorflow) (3.7)\n",
            "Requirement already satisfied: tensorboard-data-server<0.8.0,>=0.7.0 in c:\\users\\chhaj\\appdata\\roaming\\python\\python312\\site-packages (from tensorboard<2.19,>=2.18->tensorflow-intel==2.18.0->tensorflow) (0.7.2)\n",
            "Requirement already satisfied: werkzeug>=1.0.1 in c:\\users\\chhaj\\anaconda3\\lib\\site-packages (from tensorboard<2.19,>=2.18->tensorflow-intel==2.18.0->tensorflow) (3.0.3)\n",
            "Requirement already satisfied: MarkupSafe>=2.0 in c:\\users\\chhaj\\anaconda3\\lib\\site-packages (from jinja2->torch==2.6.0->torchaudio) (2.1.3)\n",
            "Requirement already satisfied: markdown-it-py>=2.2.0 in c:\\users\\chhaj\\appdata\\roaming\\python\\python312\\site-packages (from rich->keras>=3.5.0->tensorflow-intel==2.18.0->tensorflow) (3.0.0)\n",
            "Requirement already satisfied: pygments<3.0.0,>=2.13.0 in c:\\users\\chhaj\\appdata\\roaming\\python\\python312\\site-packages (from rich->keras>=3.5.0->tensorflow-intel==2.18.0->tensorflow) (2.18.0)\n",
            "Requirement already satisfied: mdurl~=0.1 in c:\\users\\chhaj\\appdata\\roaming\\python\\python312\\site-packages (from markdown-it-py>=2.2.0->rich->keras>=3.5.0->tensorflow-intel==2.18.0->tensorflow) (0.1.2)\n"
          ]
        }
      ],
      "source": [
        "!pip install librosa soundfile xgboost scikit-learn pandas numpy matplotlib seaborn transformers torchaudio tensorflow"
      ]
    },
    {
      "cell_type": "markdown",
      "metadata": {
        "id": "MZEB4R9A2FNJ"
      },
      "source": [
        "## Load and Explore Dataset"
      ]
    },
    {
      "cell_type": "code",
      "execution_count": 2,
      "metadata": {
        "id": "GPZ39CZFsCbU"
      },
      "outputs": [],
      "source": [
        "# Import necessary libraries\n",
        "import os\n",
        "import torch\n",
        "import torchaudio\n",
        "import pandas as pd\n",
        "from tqdm import tqdm\n",
        "import numpy as np\n",
        "import librosa\n",
        "import librosa.display\n",
        "import matplotlib.pyplot as plt\n",
        "import seaborn as sns\n",
        "from sklearn.model_selection import train_test_split\n",
        "from sklearn.preprocessing import StandardScaler\n",
        "from sklearn.metrics import mean_squared_error, mean_absolute_error, r2_score\n",
        "from scipy.stats import pearsonr\n",
        "from xgboost import XGBRegressor\n",
        "from tensorflow.keras.models import Sequential\n",
        "from tensorflow.keras.layers import Dense, Dropout\n",
        "from tensorflow.keras.callbacks import EarlyStopping\n",
        "import warnings\n",
        "warnings.filterwarnings('ignore')"
      ]
    },
    {
      "cell_type": "markdown",
      "metadata": {
        "id": "ZGbs1ZzNCbUH"
      },
      "source": [
        "## Feature Extraction using HuBERT"
      ]
    },
    {
      "cell_type": "code",
      "execution_count": 7,
      "metadata": {
        "id": "6XS_2eeCeiF_"
      },
      "outputs": [],
      "source": [
        "TRAIN_AUDIO_DIR = r\"C:\\Users\\chhaj\\OneDrive\\Desktop\\gaurav\\college\\SHL\\dataset\\audios_train\"\n",
        "TEST_AUDIO_DIR = r\"C:\\Users\\chhaj\\OneDrive\\Desktop\\gaurav\\college\\SHL\\dataset\\audios_test\"\n",
        "TRAIN_CSV = r\"C:\\Users\\chhaj\\OneDrive\\Desktop\\gaurav\\college\\SHL\\dataset\\train.csv\"\n",
        "TEST_CSV = r\"C:\\Users\\chhaj\\OneDrive\\Desktop\\gaurav\\college\\SHL\\dataset\\test.csv\""
      ]
    },
    {
      "cell_type": "code",
      "execution_count": 8,
      "metadata": {
        "colab": {
          "base_uri": "https://localhost:8080/",
          "height": 241
        },
        "id": "F5eD4Lm6tu5d",
        "outputId": "0e88eaa7-bb30-42de-e662-caaf0945ff99"
      },
      "outputs": [
        {
          "name": "stdout",
          "output_type": "stream",
          "text": [
            "Training samples: 444\n",
            "Testing samples: 195\n"
          ]
        },
        {
          "data": {
            "text/html": [
              "<div>\n",
              "<style scoped>\n",
              "    .dataframe tbody tr th:only-of-type {\n",
              "        vertical-align: middle;\n",
              "    }\n",
              "\n",
              "    .dataframe tbody tr th {\n",
              "        vertical-align: top;\n",
              "    }\n",
              "\n",
              "    .dataframe thead th {\n",
              "        text-align: right;\n",
              "    }\n",
              "</style>\n",
              "<table border=\"1\" class=\"dataframe\">\n",
              "  <thead>\n",
              "    <tr style=\"text-align: right;\">\n",
              "      <th></th>\n",
              "      <th>filename</th>\n",
              "      <th>label</th>\n",
              "    </tr>\n",
              "  </thead>\n",
              "  <tbody>\n",
              "    <tr>\n",
              "      <th>0</th>\n",
              "      <td>audio_1261.wav</td>\n",
              "      <td>1.0</td>\n",
              "    </tr>\n",
              "    <tr>\n",
              "      <th>1</th>\n",
              "      <td>audio_942.wav</td>\n",
              "      <td>1.5</td>\n",
              "    </tr>\n",
              "    <tr>\n",
              "      <th>2</th>\n",
              "      <td>audio_1110.wav</td>\n",
              "      <td>1.5</td>\n",
              "    </tr>\n",
              "    <tr>\n",
              "      <th>3</th>\n",
              "      <td>audio_1024.wav</td>\n",
              "      <td>1.5</td>\n",
              "    </tr>\n",
              "    <tr>\n",
              "      <th>4</th>\n",
              "      <td>audio_538.wav</td>\n",
              "      <td>2.0</td>\n",
              "    </tr>\n",
              "  </tbody>\n",
              "</table>\n",
              "</div>"
            ],
            "text/plain": [
              "         filename  label\n",
              "0  audio_1261.wav    1.0\n",
              "1   audio_942.wav    1.5\n",
              "2  audio_1110.wav    1.5\n",
              "3  audio_1024.wav    1.5\n",
              "4   audio_538.wav    2.0"
            ]
          },
          "execution_count": 8,
          "metadata": {},
          "output_type": "execute_result"
        }
      ],
      "source": [
        "# Load the CSV file\n",
        "train_df = pd.read_csv(TRAIN_CSV)\n",
        "test_df = pd.read_csv(TEST_CSV)\n",
        "print(\"Training samples:\", len(train_df))\n",
        "print(\"Testing samples:\", len(test_df))\n",
        "train_df.head()"
      ]
    },
    {
      "cell_type": "code",
      "execution_count": 9,
      "metadata": {
        "colab": {
          "base_uri": "https://localhost:8080/",
          "height": 472
        },
        "id": "4IFVnI87SejU",
        "outputId": "bd614434-569d-4482-9caa-1d62b9f778f0"
      },
      "outputs": [
        {
          "data": {
            "image/png": "[encoded data removed]",
            "text/plain": [
              "<Figure size 640x480 with 1 Axes>"
            ]
          },
          "metadata": {},
          "output_type": "display_data"
        }
      ],
      "source": [
        "sns.histplot(train_df['label'], bins=6, kde=True)\n",
        "plt.title(\"Grammar Score Distribution\")\n",
        "plt.xlabel(\"Score\")\n",
        "plt.ylabel(\"Frequency\")\n",
        "plt.show()"
      ]
    },
    {
      "cell_type": "markdown",
      "metadata": {
        "id": "7bUsK5qD2Smu"
      },
      "source": [
        "## Data Preprocessing"
      ]
    },
    {
      "cell_type": "markdown",
      "metadata": {
        "id": "rvUVF4W_KKMS"
      },
      "source": [
        "## Using HuBERT"
      ]
    },
    {
      "cell_type": "code",
      "execution_count": null,
      "metadata": {
        "colab": {
          "base_uri": "https://localhost:8080/",
          "height": 113,
          "referenced_widgets": [
            "848e40aa1f424636803671b3c25dfb96",
            "3ba00887dc0c43008ee8f9659fa2da43",
            "753105073e4744dfa253e89e3996ed2b",
            "639c7b113a2b47d3936892dfb22f6b14",
            "c1653b2b39df4858b95e9ac4adf55b50",
            "4b14613dc2074e89a482be8fcbfbe9e3",
            "cb37b2af30f741a498b287edd1f98d96",
            "ef7bd4662f16423689ac02a1d9d85ef6",
            "8ae192e419754cc4970a7f8fc214fa42",
            "31f4ab6c073f410fb89bfb7d35dc044a",
            "16c827494f6440c6a19e0f9b692b3a31",
            "fc16c97e605346beaa13e151691b32cb",
            "068bbe930d4e47deb37b4c438f0e94c0",
            "d2fefbf8d6e445968923a92e155bc591",
            "abddc07498df4149b452a75feec8344c",
            "b43fa7d05a2c43e8a207ef45e3e8f401",
            "f069150f49a84a21b22e47af9734ef0d",
            "8596185335754bec9ffbebf6940de0c4",
            "92dcaf9308a64165b2a411bcf142568a",
            "2f3db173a4bd4d1e972f8bb9a278c8ab",
            "82a39c4f7e154f44af3b8d6c92a3fde6",
            "6e080e422ff140f68b87f88a57d8283e",
            "a337d186705d43a18e9ed72ee7259313",
            "37bdbf06c26749ada290f3e15621a732",
            "2ad00a772a6f4e23ad7e669931da6e38",
            "3dcfa1f342024f458f6fb91e5acd1a5b",
            "a5546971fdb74246a20215e27b46ecf5",
            "d97f873cd9ec48e4b0c5f5cd7d82e79d",
            "06d8aa5a5b2248c9ab2db0ec19e28fdf",
            "db23aee9ad974d83b3900f0b49f2fc7a",
            "b288fc99a3df4c7a97c21f4ba1322f91",
            "cf7f43a37a8d466883e9c273a169f795",
            "6944d66f2dec43088e3e3e00ab40e324"
          ]
        },
        "id": "tiee97UwKMq0",
        "outputId": "d81d38d9-bb98-4089-e80b-033a98afc3ab"
      },
      "outputs": [],
      "source": [
        "# Import necessary libraries\n",
        "from transformers import Wav2Vec2FeatureExtractor, HubertModel\n",
        "\n",
        "# Load HuBERT model and feature extractor\n",
        "feature_extractor = Wav2Vec2FeatureExtractor.from_pretrained(\"facebook/hubert-base-ls960\")\n",
        "model = HubertModel.from_pretrained(\"facebook/hubert-base-ls960\")\n",
        "\n",
        "def extract_hubert_features(file_path):\n",
        "    # Load audio using torchaudio\n",
        "    waveform, sr = torchaudio.load(file_path)\n",
        "\n",
        "    # Resample to 16kHz if needed\n",
        "    if sr != 16000:\n",
        "        resampler = torchaudio.transforms.Resample(sr, 16000)\n",
        "        waveform = resampler(waveform)\n",
        "\n",
        "    # Convert stereo to mono if needed\n",
        "    if waveform.shape[0] > 1:\n",
        "        waveform = torch.mean(waveform, dim=0, keepdim=True)\n",
        "\n",
        "    # Prepare inputs\n",
        "    inputs = feature_extractor(waveform.squeeze().numpy(), sampling_rate=16000, return_tensors=\"pt\")\n",
        "\n",
        "    # Get features from HuBERT\n",
        "    with torch.no_grad():\n",
        "        outputs = model(inputs.input_values)\n",
        "\n",
        "    # Mean pooling across time\n",
        "    features = torch.mean(outputs.last_hidden_state, dim=1).squeeze().numpy()\n",
        "    return features\n"
      ]
    },
    {
      "cell_type": "code",
      "execution_count": null,
      "metadata": {
        "colab": {
          "base_uri": "https://localhost:8080/"
        },
        "id": "aHovzmzdKV7t",
        "outputId": "62ebacf5-e360-4642-b384-9a14b33ab0c9"
      },
      "outputs": [
        {
          "name": "stdout",
          "output_type": "stream",
          "text": [
            "Extracting HuBERT features for training data...\n"
          ]
        },
        {
          "name": "stderr",
          "output_type": "stream",
          "text": [
            "100%|██████████| 444/444 [5:05:41<00:00, 41.31s/it]\n"
          ]
        }
      ],
      "source": [
        "X_train, y_train = [], []\n",
        "print(\"Extracting HuBERT features for training data...\")\n",
        "\n",
        "for _, row in tqdm(train_df.iterrows(), total=len(train_df)):\n",
        "    file_path = os.path.join(TRAIN_AUDIO_DIR, row[\"filename\"])\n",
        "    try:\n",
        "        features = extract_hubert_features(file_path)\n",
        "        X_train.append(features)\n",
        "        y_train.append(row[\"label\"])\n",
        "    except Exception as e:\n",
        "        print(f\"Error in {file_path}: {e}\")\n",
        "\n",
        "X_train = np.array(X_train)\n",
        "y_train = np.array(y_train)\n",
        "\n",
        "# Save features\n",
        "np.save(\"X_train_hubert.npy\", X_train)\n",
        "np.save(\"y_train_hubert.npy\", y_train)"
      ]
    },
    {
      "cell_type": "code",
      "execution_count": null,
      "metadata": {
        "colab": {
          "base_uri": "https://localhost:8080/"
        },
        "id": "uMPD0-lHJycD",
        "outputId": "52c75573-3e4a-4ef0-a1a8-4c57970c9f1f"
      },
      "outputs": [
        {
          "name": "stdout",
          "output_type": "stream",
          "text": [
            "Extracting HuBERT features for test data...\n"
          ]
        },
        {
          "name": "stderr",
          "output_type": "stream",
          "text": [
            "100%|██████████| 195/195 [2:04:12<00:00, 38.22s/it]\n"
          ]
        }
      ],
      "source": [
        "X_test = []\n",
        "file_names = []\n",
        "\n",
        "print(\"Extracting HuBERT features for test data...\")\n",
        "\n",
        "for _, row in tqdm(test_df.iterrows(), total=len(test_df)):\n",
        "    file_path = os.path.join(TEST_AUDIO_DIR, row[\"filename\"])\n",
        "    try:\n",
        "        features = extract_hubert_features(file_path)\n",
        "        X_test.append(features)\n",
        "        file_names.append(row[\"filename\"])\n",
        "    except Exception as e:\n",
        "        print(f\"Error in {file_path}: {e}\")\n",
        "\n",
        "X_test = np.array(X_test)\n",
        "file_names = np.array(file_names)\n",
        "\n",
        "# Save\n",
        "np.save(\"X_test_hubert.npy\", X_test)\n",
        "np.save(\"test_filenames.npy\", file_names)"
      ]
    },
    {
      "cell_type": "markdown",
      "metadata": {
        "id": "JB3sbyw52dvn"
      },
      "source": [
        "## Model Training (MLP Regressor)"
      ]
    },
    {
      "cell_type": "code",
      "execution_count": null,
      "metadata": {
        "id": "z1tr8_RzMd3j"
      },
      "outputs": [],
      "source": [
        "scaler = StandardScaler()\n",
        "X_train_scaled = scaler.fit_transform(X_train)\n",
        "X_test_scaled = scaler.transform(X_test)"
      ]
    },
    {
      "cell_type": "code",
      "execution_count": null,
      "metadata": {
        "id": "vECQwEalxyJ-"
      },
      "outputs": [],
      "source": [
        "# Initialize MLP\n",
        "mlp = MLPRegressor(hidden_layer_sizes=(256, 128), activation='relu', solver='adam', max_iter=500, random_state=42)\n",
        "\n",
        "# Train\n",
        "mlp.fit(X_train_scaled, y_train)\n",
        "\n",
        "# Predict on train for evaluation\n",
        "y_pred_train = mlp.predict(X_train_scaled)"
      ]
    },
    {
      "cell_type": "markdown",
      "metadata": {
        "id": "Hn98jHMb2goh"
      },
      "source": [
        "## Model Evaluation"
      ]
    },
    {
      "cell_type": "code",
      "execution_count": null,
      "metadata": {
        "colab": {
          "base_uri": "https://localhost:8080/"
        },
        "id": "10n8QX5QywwV",
        "outputId": "850d62db-f1b2-44da-c82f-cf43b6f08b41"
      },
      "outputs": [
        {
          "name": "stdout",
          "output_type": "stream",
          "text": [
            "Train MSE: 0.0002\n",
            "Train MAE: 0.0090\n",
            "Train R²: 0.9998\n"
          ]
        }
      ],
      "source": [
        "mse = mean_squared_error(y_train, y_pred_train)\n",
        "mae = mean_absolute_error(y_train, y_pred_train)\n",
        "r2 = r2_score(y_train, y_pred_train)\n",
        "\n",
        "print(f\"Train MSE: {mse:.4f}\")\n",
        "print(f\"Train MAE: {mae:.4f}\")\n",
        "print(f\"Train R²: {r2:.4f}\")"
      ]
    },
    {
      "cell_type": "markdown",
      "metadata": {
        "id": "NAiiAbNu2kdd"
      },
      "source": [
        "## Predict on Test Data"
      ]
    },
    {
      "cell_type": "code",
      "execution_count": null,
      "metadata": {
        "id": "3W7MqRnsx33i"
      },
      "outputs": [],
      "source": [
        "# Predict grammar scores\n",
        "test_predictions = mlp.predict(X_test_scaled)"
      ]
    },
    {
      "cell_type": "markdown",
      "metadata": {
        "id": "EC9HO4nf2txC"
      },
      "source": [
        "## Save Submission"
      ]
    },
    {
      "cell_type": "code",
      "execution_count": null,
      "metadata": {
        "id": "7SxPsPMDyBvk"
      },
      "outputs": [],
      "source": [
        "submission_df = pd.DataFrame({\n",
        "    \"filename\": file_names,\n",
        "    \"label\": test_predictions\n",
        "})\n",
        "\n",
        "# Save submission file\n",
        "submission_df.to_csv(\"submission.csv\", index=False)"
      ]
    },
    {
      "cell_type": "code",
      "execution_count": null,
      "metadata": {
        "colab": {
          "base_uri": "https://localhost:8080/",
          "height": 472
        },
        "id": "tITM7ecqy8WH",
        "outputId": "0d6e2dde-0116-48a1-9970-68da33662558"
      },
      "outputs": [
        {
          "data": {
            "image/png": "[encoded data removed]",
            "text/plain": [
              "<Figure size 640x480 with 1 Axes>"
            ]
          },
          "metadata": {},
          "output_type": "display_data"
        }
      ],
      "source": [
        "plt.scatter(y_train, y_pred_train, alpha=0.5)\n",
        "plt.xlabel(\"Actual Scores\")\n",
        "plt.ylabel(\"Predicted Scores\")\n",
        "plt.title(\"Training Set Predictions\")\n",
        "plt.grid(True)\n",
        "plt.show()"
      ]
    }
  ],
  "metadata": {
    "accelerator": "GPU",
    "colab": {
      "collapsed_sections": [
        "FrufOXCFKGKy"
      ],
      "gpuType": "T4",
      "provenance": []
    },
    "kernelspec": {
      "display_name": "Python 3",
      "language": "python",
      "name": "python3"
    },
    "language_info": {
      "codemirror_mode": {
        "name": "ipython",
        "version": 3
      },
      "file_extension": ".py",
      "mimetype": "text/x-python",
      "name": "python",
      "nbconvert_exporter": "python",
      "pygments_lexer": "ipython3",
      "version": "3.12.3"
    },
    "widgets": {
      "application/vnd.jupyter.widget-state+json": {
        "068bbe930d4e47deb37b4c438f0e94c0": {
          "model_module": "@jupyter-widgets/controls",
          "model_module_version": "1.5.0",
          "model_name": "HTMLModel",
          "state": {
            "_dom_classes": [],
            "_model_module": "@jupyter-widgets/controls",
            "_model_module_version": "1.5.0",
            "_model_name": "HTMLModel",
            "_view_count": null,
            "_view_module": "@jupyter-widgets/controls",
            "_view_module_version": "1.5.0",
            "_view_name": "HTMLView",
            "description": "",
            "description_tooltip": null,
            "layout": "IPY_MODEL_f069150f49a84a21b22e47af9734ef0d",
            "placeholder": "​",
            "style": "IPY_MODEL_8596185335754bec9ffbebf6940de0c4",
            "value": "config.json: 100%"
          }
        },
        "06d8aa5a5b2248c9ab2db0ec19e28fdf": {
          "model_module": "@jupyter-widgets/controls",
          "model_module_version": "1.5.0",
          "model_name": "DescriptionStyleModel",
          "state": {
            "_model_module": "@jupyter-widgets/controls",
            "_model_module_version": "1.5.0",
            "_model_name": "DescriptionStyleModel",
            "_view_count": null,
            "_view_module": "@jupyter-widgets/base",
            "_view_module_version": "1.2.0",
            "_view_name": "StyleView",
            "description_width": ""
          }
        },
        "16c827494f6440c6a19e0f9b692b3a31": {
          "model_module": "@jupyter-widgets/controls",
          "model_module_version": "1.5.0",
          "model_name": "DescriptionStyleModel",
          "state": {
            "_model_module": "@jupyter-widgets/controls",
            "_model_module_version": "1.5.0",
            "_model_name": "DescriptionStyleModel",
            "_view_count": null,
            "_view_module": "@jupyter-widgets/base",
            "_view_module_version": "1.2.0",
            "_view_name": "StyleView",
            "description_width": ""
          }
        },
        "2ad00a772a6f4e23ad7e669931da6e38": {
          "model_module": "@jupyter-widgets/controls",
          "model_module_version": "1.5.0",
          "model_name": "FloatProgressModel",
          "state": {
            "_dom_classes": [],
            "_model_module": "@jupyter-widgets/controls",
            "_model_module_version": "1.5.0",
            "_model_name": "FloatProgressModel",
            "_view_count": null,
            "_view_module": "@jupyter-widgets/controls",
            "_view_module_version": "1.5.0",
            "_view_name": "ProgressView",
            "bar_style": "success",
            "description": "",
            "description_tooltip": null,
            "layout": "IPY_MODEL_db23aee9ad974d83b3900f0b49f2fc7a",
            "max": 377569754,
            "min": 0,
            "orientation": "horizontal",
            "style": "IPY_MODEL_b288fc99a3df4c7a97c21f4ba1322f91",
            "value": 377569754
          }
        },
        "2f3db173a4bd4d1e972f8bb9a278c8ab": {
          "model_module": "@jupyter-widgets/controls",
          "model_module_version": "1.5.0",
          "model_name": "ProgressStyleModel",
          "state": {
            "_model_module": "@jupyter-widgets/controls",
            "_model_module_version": "1.5.0",
            "_model_name": "ProgressStyleModel",
            "_view_count": null,
            "_view_module": "@jupyter-widgets/base",
            "_view_module_version": "1.2.0",
            "_view_name": "StyleView",
            "bar_color": null,
            "description_width": ""
          }
        },
        "31f4ab6c073f410fb89bfb7d35dc044a": {
          "model_module": "@jupyter-widgets/base",
          "model_module_version": "1.2.0",
          "model_name": "LayoutModel",
          "state": {
            "_model_module": "@jupyter-widgets/base",
            "_model_module_version": "1.2.0",
            "_model_name": "LayoutModel",
            "_view_count": null,
            "_view_module": "@jupyter-widgets/base",
            "_view_module_version": "1.2.0",
            "_view_name": "LayoutView",
            "align_content": null,
            "align_items": null,
            "align_self": null,
            "border": null,
            "bottom": null,
            "display": null,
            "flex": null,
            "flex_flow": null,
            "grid_area": null,
            "grid_auto_columns": null,
            "grid_auto_flow": null,
            "grid_auto_rows": null,
            "grid_column": null,
            "grid_gap": null,
            "grid_row": null,
            "grid_template_areas": null,
            "grid_template_columns": null,
            "grid_template_rows": null,
            "height": null,
            "justify_content": null,
            "justify_items": null,
            "left": null,
            "margin": null,
            "max_height": null,
            "max_width": null,
            "min_height": null,
            "min_width": null,
            "object_fit": null,
            "object_position": null,
            "order": null,
            "overflow": null,
            "overflow_x": null,
            "overflow_y": null,
            "padding": null,
            "right": null,
            "top": null,
            "visibility": null,
            "width": null
          }
        },
        "37bdbf06c26749ada290f3e15621a732": {
          "model_module": "@jupyter-widgets/controls",
          "model_module_version": "1.5.0",
          "model_name": "HTMLModel",
          "state": {
            "_dom_classes": [],
            "_model_module": "@jupyter-widgets/controls",
            "_model_module_version": "1.5.0",
            "_model_name": "HTMLModel",
            "_view_count": null,
            "_view_module": "@jupyter-widgets/controls",
            "_view_module_version": "1.5.0",
            "_view_name": "HTMLView",
            "description": "",
            "description_tooltip": null,
            "layout": "IPY_MODEL_d97f873cd9ec48e4b0c5f5cd7d82e79d",
            "placeholder": "​",
            "style": "IPY_MODEL_06d8aa5a5b2248c9ab2db0ec19e28fdf",
            "value": "pytorch_model.bin: 100%"
          }
        },
        "3ba00887dc0c43008ee8f9659fa2da43": {
          "model_module": "@jupyter-widgets/controls",
          "model_module_version": "1.5.0",
          "model_name": "HTMLModel",
          "state": {
            "_dom_classes": [],
            "_model_module": "@jupyter-widgets/controls",
            "_model_module_version": "1.5.0",
            "_model_name": "HTMLModel",
            "_view_count": null,
            "_view_module": "@jupyter-widgets/controls",
            "_view_module_version": "1.5.0",
            "_view_name": "HTMLView",
            "description": "",
            "description_tooltip": null,
            "layout": "IPY_MODEL_4b14613dc2074e89a482be8fcbfbe9e3",
            "placeholder": "​",
            "style": "IPY_MODEL_cb37b2af30f741a498b287edd1f98d96",
            "value": "preprocessor_config.json: 100%"
          }
        },
        "3dcfa1f342024f458f6fb91e5acd1a5b": {
          "model_module": "@jupyter-widgets/controls",
          "model_module_version": "1.5.0",
          "model_name": "HTMLModel",
          "state": {
            "_dom_classes": [],
            "_model_module": "@jupyter-widgets/controls",
            "_model_module_version": "1.5.0",
            "_model_name": "HTMLModel",
            "_view_count": null,
            "_view_module": "@jupyter-widgets/controls",
            "_view_module_version": "1.5.0",
            "_view_name": "HTMLView",
            "description": "",
            "description_tooltip": null,
            "layout": "IPY_MODEL_cf7f43a37a8d466883e9c273a169f795",
            "placeholder": "​",
            "style": "IPY_MODEL_6944d66f2dec43088e3e3e00ab40e324",
            "value": " 378M/378M [00:02&lt;00:00, 185MB/s]"
          }
        },
        "4b14613dc2074e89a482be8fcbfbe9e3": {
          "model_module": "@jupyter-widgets/base",
          "model_module_version": "1.2.0",
          "model_name": "LayoutModel",
          "state": {
            "_model_module": "@jupyter-widgets/base",
            "_model_module_version": "1.2.0",
            "_model_name": "LayoutModel",
            "_view_count": null,
            "_view_module": "@jupyter-widgets/base",
            "_view_module_version": "1.2.0",
            "_view_name": "LayoutView",
            "align_content": null,
            "align_items": null,
            "align_self": null,
            "border": null,
            "bottom": null,
            "display": null,
            "flex": null,
            "flex_flow": null,
            "grid_area": null,
            "grid_auto_columns": null,
            "grid_auto_flow": null,
            "grid_auto_rows": null,
            "grid_column": null,
            "grid_gap": null,
            "grid_row": null,
            "grid_template_areas": null,
            "grid_template_columns": null,
            "grid_template_rows": null,
            "height": null,
            "justify_content": null,
            "justify_items": null,
            "left": null,
            "margin": null,
            "max_height": null,
            "max_width": null,
            "min_height": null,
            "min_width": null,
            "object_fit": null,
            "object_position": null,
            "order": null,
            "overflow": null,
            "overflow_x": null,
            "overflow_y": null,
            "padding": null,
            "right": null,
            "top": null,
            "visibility": null,
            "width": null
          }
        },
        "639c7b113a2b47d3936892dfb22f6b14": {
          "model_module": "@jupyter-widgets/controls",
          "model_module_version": "1.5.0",
          "model_name": "HTMLModel",
          "state": {
            "_dom_classes": [],
            "_model_module": "@jupyter-widgets/controls",
            "_model_module_version": "1.5.0",
            "_model_name": "HTMLModel",
            "_view_count": null,
            "_view_module": "@jupyter-widgets/controls",
            "_view_module_version": "1.5.0",
            "_view_name": "HTMLView",
            "description": "",
            "description_tooltip": null,
            "layout": "IPY_MODEL_31f4ab6c073f410fb89bfb7d35dc044a",
            "placeholder": "​",
            "style": "IPY_MODEL_16c827494f6440c6a19e0f9b692b3a31",
            "value": " 213/213 [00:00&lt;00:00, 16.7kB/s]"
          }
        },
        "6944d66f2dec43088e3e3e00ab40e324": {
          "model_module": "@jupyter-widgets/controls",
          "model_module_version": "1.5.0",
          "model_name": "DescriptionStyleModel",
          "state": {
            "_model_module": "@jupyter-widgets/controls",
            "_model_module_version": "1.5.0",
            "_model_name": "DescriptionStyleModel",
            "_view_count": null,
            "_view_module": "@jupyter-widgets/base",
            "_view_module_version": "1.2.0",
            "_view_name": "StyleView",
            "description_width": ""
          }
        },
        "6e080e422ff140f68b87f88a57d8283e": {
          "model_module": "@jupyter-widgets/controls",
          "model_module_version": "1.5.0",
          "model_name": "DescriptionStyleModel",
          "state": {
            "_model_module": "@jupyter-widgets/controls",
            "_model_module_version": "1.5.0",
            "_model_name": "DescriptionStyleModel",
            "_view_count": null,
            "_view_module": "@jupyter-widgets/base",
            "_view_module_version": "1.2.0",
            "_view_name": "StyleView",
            "description_width": ""
          }
        },
        "753105073e4744dfa253e89e3996ed2b": {
          "model_module": "@jupyter-widgets/controls",
          "model_module_version": "1.5.0",
          "model_name": "FloatProgressModel",
          "state": {
            "_dom_classes": [],
            "_model_module": "@jupyter-widgets/controls",
            "_model_module_version": "1.5.0",
            "_model_name": "FloatProgressModel",
            "_view_count": null,
            "_view_module": "@jupyter-widgets/controls",
            "_view_module_version": "1.5.0",
            "_view_name": "ProgressView",
            "bar_style": "success",
            "description": "",
            "description_tooltip": null,
            "layout": "IPY_MODEL_ef7bd4662f16423689ac02a1d9d85ef6",
            "max": 213,
            "min": 0,
            "orientation": "horizontal",
            "style": "IPY_MODEL_8ae192e419754cc4970a7f8fc214fa42",
            "value": 213
          }
        },
        "82a39c4f7e154f44af3b8d6c92a3fde6": {
          "model_module": "@jupyter-widgets/base",
          "model_module_version": "1.2.0",
          "model_name": "LayoutModel",
          "state": {
            "_model_module": "@jupyter-widgets/base",
            "_model_module_version": "1.2.0",
            "_model_name": "LayoutModel",
            "_view_count": null,
            "_view_module": "@jupyter-widgets/base",
            "_view_module_version": "1.2.0",
            "_view_name": "LayoutView",
            "align_content": null,
            "align_items": null,
            "align_self": null,
            "border": null,
            "bottom": null,
            "display": null,
            "flex": null,
            "flex_flow": null,
            "grid_area": null,
            "grid_auto_columns": null,
            "grid_auto_flow": null,
            "grid_auto_rows": null,
            "grid_column": null,
            "grid_gap": null,
            "grid_row": null,
            "grid_template_areas": null,
            "grid_template_columns": null,
            "grid_template_rows": null,
            "height": null,
            "justify_content": null,
            "justify_items": null,
            "left": null,
            "margin": null,
            "max_height": null,
            "max_width": null,
            "min_height": null,
            "min_width": null,
            "object_fit": null,
            "object_position": null,
            "order": null,
            "overflow": null,
            "overflow_x": null,
            "overflow_y": null,
            "padding": null,
            "right": null,
            "top": null,
            "visibility": null,
            "width": null
          }
        },
        "848e40aa1f424636803671b3c25dfb96": {
          "model_module": "@jupyter-widgets/controls",
          "model_module_version": "1.5.0",
          "model_name": "HBoxModel",
          "state": {
            "_dom_classes": [],
            "_model_module": "@jupyter-widgets/controls",
            "_model_module_version": "1.5.0",
            "_model_name": "HBoxModel",
            "_view_count": null,
            "_view_module": "@jupyter-widgets/controls",
            "_view_module_version": "1.5.0",
            "_view_name": "HBoxView",
            "box_style": "",
            "children": [
              "IPY_MODEL_3ba00887dc0c43008ee8f9659fa2da43",
              "IPY_MODEL_753105073e4744dfa253e89e3996ed2b",
              "IPY_MODEL_639c7b113a2b47d3936892dfb22f6b14"
            ],
            "layout": "IPY_MODEL_c1653b2b39df4858b95e9ac4adf55b50"
          }
        },
        "8596185335754bec9ffbebf6940de0c4": {
          "model_module": "@jupyter-widgets/controls",
          "model_module_version": "1.5.0",
          "model_name": "DescriptionStyleModel",
          "state": {
            "_model_module": "@jupyter-widgets/controls",
            "_model_module_version": "1.5.0",
            "_model_name": "DescriptionStyleModel",
            "_view_count": null,
            "_view_module": "@jupyter-widgets/base",
            "_view_module_version": "1.2.0",
            "_view_name": "StyleView",
            "description_width": ""
          }
        },
        "8ae192e419754cc4970a7f8fc214fa42": {
          "model_module": "@jupyter-widgets/controls",
          "model_module_version": "1.5.0",
          "model_name": "ProgressStyleModel",
          "state": {
            "_model_module": "@jupyter-widgets/controls",
            "_model_module_version": "1.5.0",
            "_model_name": "ProgressStyleModel",
            "_view_count": null,
            "_view_module": "@jupyter-widgets/base",
            "_view_module_version": "1.2.0",
            "_view_name": "StyleView",
            "bar_color": null,
            "description_width": ""
          }
        },
        "92dcaf9308a64165b2a411bcf142568a": {
          "model_module": "@jupyter-widgets/base",
          "model_module_version": "1.2.0",
          "model_name": "LayoutModel",
          "state": {
            "_model_module": "@jupyter-widgets/base",
            "_model_module_version": "1.2.0",
            "_model_name": "LayoutModel",
            "_view_count": null,
            "_view_module": "@jupyter-widgets/base",
            "_view_module_version": "1.2.0",
            "_view_name": "LayoutView",
            "align_content": null,
            "align_items": null,
            "align_self": null,
            "border": null,
            "bottom": null,
            "display": null,
            "flex": null,
            "flex_flow": null,
            "grid_area": null,
            "grid_auto_columns": null,
            "grid_auto_flow": null,
            "grid_auto_rows": null,
            "grid_column": null,
            "grid_gap": null,
            "grid_row": null,
            "grid_template_areas": null,
            "grid_template_columns": null,
            "grid_template_rows": null,
            "height": null,
            "justify_content": null,
            "justify_items": null,
            "left": null,
            "margin": null,
            "max_height": null,
            "max_width": null,
            "min_height": null,
            "min_width": null,
            "object_fit": null,
            "object_position": null,
            "order": null,
            "overflow": null,
            "overflow_x": null,
            "overflow_y": null,
            "padding": null,
            "right": null,
            "top": null,
            "visibility": null,
            "width": null
          }
        },
        "a337d186705d43a18e9ed72ee7259313": {
          "model_module": "@jupyter-widgets/controls",
          "model_module_version": "1.5.0",
          "model_name": "HBoxModel",
          "state": {
            "_dom_classes": [],
            "_model_module": "@jupyter-widgets/controls",
            "_model_module_version": "1.5.0",
            "_model_name": "HBoxModel",
            "_view_count": null,
            "_view_module": "@jupyter-widgets/controls",
            "_view_module_version": "1.5.0",
            "_view_name": "HBoxView",
            "box_style": "",
            "children": [
              "IPY_MODEL_37bdbf06c26749ada290f3e15621a732",
              "IPY_MODEL_2ad00a772a6f4e23ad7e669931da6e38",
              "IPY_MODEL_3dcfa1f342024f458f6fb91e5acd1a5b"
            ],
            "layout": "IPY_MODEL_a5546971fdb74246a20215e27b46ecf5"
          }
        },
        "a5546971fdb74246a20215e27b46ecf5": {
          "model_module": "@jupyter-widgets/base",
          "model_module_version": "1.2.0",
          "model_name": "LayoutModel",
          "state": {
            "_model_module": "@jupyter-widgets/base",
            "_model_module_version": "1.2.0",
            "_model_name": "LayoutModel",
            "_view_count": null,
            "_view_module": "@jupyter-widgets/base",
            "_view_module_version": "1.2.0",
            "_view_name": "LayoutView",
            "align_content": null,
            "align_items": null,
            "align_self": null,
            "border": null,
            "bottom": null,
            "display": null,
            "flex": null,
            "flex_flow": null,
            "grid_area": null,
            "grid_auto_columns": null,
            "grid_auto_flow": null,
            "grid_auto_rows": null,
            "grid_column": null,
            "grid_gap": null,
            "grid_row": null,
            "grid_template_areas": null,
            "grid_template_columns": null,
            "grid_template_rows": null,
            "height": null,
            "justify_content": null,
            "justify_items": null,
            "left": null,
            "margin": null,
            "max_height": null,
            "max_width": null,
            "min_height": null,
            "min_width": null,
            "object_fit": null,
            "object_position": null,
            "order": null,
            "overflow": null,
            "overflow_x": null,
            "overflow_y": null,
            "padding": null,
            "right": null,
            "top": null,
            "visibility": null,
            "width": null
          }
        },
        "abddc07498df4149b452a75feec8344c": {
          "model_module": "@jupyter-widgets/controls",
          "model_module_version": "1.5.0",
          "model_name": "HTMLModel",
          "state": {
            "_dom_classes": [],
            "_model_module": "@jupyter-widgets/controls",
            "_model_module_version": "1.5.0",
            "_model_name": "HTMLModel",
            "_view_count": null,
            "_view_module": "@jupyter-widgets/controls",
            "_view_module_version": "1.5.0",
            "_view_name": "HTMLView",
            "description": "",
            "description_tooltip": null,
            "layout": "IPY_MODEL_82a39c4f7e154f44af3b8d6c92a3fde6",
            "placeholder": "​",
            "style": "IPY_MODEL_6e080e422ff140f68b87f88a57d8283e",
            "value": " 1.39k/1.39k [00:00&lt;00:00, 99.7kB/s]"
          }
        },
        "b288fc99a3df4c7a97c21f4ba1322f91": {
          "model_module": "@jupyter-widgets/controls",
          "model_module_version": "1.5.0",
          "model_name": "ProgressStyleModel",
          "state": {
            "_model_module": "@jupyter-widgets/controls",
            "_model_module_version": "1.5.0",
            "_model_name": "ProgressStyleModel",
            "_view_count": null,
            "_view_module": "@jupyter-widgets/base",
            "_view_module_version": "1.2.0",
            "_view_name": "StyleView",
            "bar_color": null,
            "description_width": ""
          }
        },
        "b43fa7d05a2c43e8a207ef45e3e8f401": {
          "model_module": "@jupyter-widgets/base",
          "model_module_version": "1.2.0",
          "model_name": "LayoutModel",
          "state": {
            "_model_module": "@jupyter-widgets/base",
            "_model_module_version": "1.2.0",
            "_model_name": "LayoutModel",
            "_view_count": null,
            "_view_module": "@jupyter-widgets/base",
            "_view_module_version": "1.2.0",
            "_view_name": "LayoutView",
            "align_content": null,
            "align_items": null,
            "align_self": null,
            "border": null,
            "bottom": null,
            "display": null,
            "flex": null,
            "flex_flow": null,
            "grid_area": null,
            "grid_auto_columns": null,
            "grid_auto_flow": null,
            "grid_auto_rows": null,
            "grid_column": null,
            "grid_gap": null,
            "grid_row": null,
            "grid_template_areas": null,
            "grid_template_columns": null,
            "grid_template_rows": null,
            "height": null,
            "justify_content": null,
            "justify_items": null,
            "left": null,
            "margin": null,
            "max_height": null,
            "max_width": null,
            "min_height": null,
            "min_width": null,
            "object_fit": null,
            "object_position": null,
            "order": null,
            "overflow": null,
            "overflow_x": null,
            "overflow_y": null,
            "padding": null,
            "right": null,
            "top": null,
            "visibility": null,
            "width": null
          }
        },
        "c1653b2b39df4858b95e9ac4adf55b50": {
          "model_module": "@jupyter-widgets/base",
          "model_module_version": "1.2.0",
          "model_name": "LayoutModel",
          "state": {
            "_model_module": "@jupyter-widgets/base",
            "_model_module_version": "1.2.0",
            "_model_name": "LayoutModel",
            "_view_count": null,
            "_view_module": "@jupyter-widgets/base",
            "_view_module_version": "1.2.0",
            "_view_name": "LayoutView",
            "align_content": null,
            "align_items": null,
            "align_self": null,
            "border": null,
            "bottom": null,
            "display": null,
            "flex": null,
            "flex_flow": null,
            "grid_area": null,
            "grid_auto_columns": null,
            "grid_auto_flow": null,
            "grid_auto_rows": null,
            "grid_column": null,
            "grid_gap": null,
            "grid_row": null,
            "grid_template_areas": null,
            "grid_template_columns": null,
            "grid_template_rows": null,
            "height": null,
            "justify_content": null,
            "justify_items": null,
            "left": null,
            "margin": null,
            "max_height": null,
            "max_width": null,
            "min_height": null,
            "min_width": null,
            "object_fit": null,
            "object_position": null,
            "order": null,
            "overflow": null,
            "overflow_x": null,
            "overflow_y": null,
            "padding": null,
            "right": null,
            "top": null,
            "visibility": null,
            "width": null
          }
        },
        "cb37b2af30f741a498b287edd1f98d96": {
          "model_module": "@jupyter-widgets/controls",
          "model_module_version": "1.5.0",
          "model_name": "DescriptionStyleModel",
          "state": {
            "_model_module": "@jupyter-widgets/controls",
            "_model_module_version": "1.5.0",
            "_model_name": "DescriptionStyleModel",
            "_view_count": null,
            "_view_module": "@jupyter-widgets/base",
            "_view_module_version": "1.2.0",
            "_view_name": "StyleView",
            "description_width": ""
          }
        },
        "cf7f43a37a8d466883e9c273a169f795": {
          "model_module": "@jupyter-widgets/base",
          "model_module_version": "1.2.0",
          "model_name": "LayoutModel",
          "state": {
            "_model_module": "@jupyter-widgets/base",
            "_model_module_version": "1.2.0",
            "_model_name": "LayoutModel",
            "_view_count": null,
            "_view_module": "@jupyter-widgets/base",
            "_view_module_version": "1.2.0",
            "_view_name": "LayoutView",
            "align_content": null,
            "align_items": null,
            "align_self": null,
            "border": null,
            "bottom": null,
            "display": null,
            "flex": null,
            "flex_flow": null,
            "grid_area": null,
            "grid_auto_columns": null,
            "grid_auto_flow": null,
            "grid_auto_rows": null,
            "grid_column": null,
            "grid_gap": null,
            "grid_row": null,
            "grid_template_areas": null,
            "grid_template_columns": null,
            "grid_template_rows": null,
            "height": null,
            "justify_content": null,
            "justify_items": null,
            "left": null,
            "margin": null,
            "max_height": null,
            "max_width": null,
            "min_height": null,
            "min_width": null,
            "object_fit": null,
            "object_position": null,
            "order": null,
            "overflow": null,
            "overflow_x": null,
            "overflow_y": null,
            "padding": null,
            "right": null,
            "top": null,
            "visibility": null,
            "width": null
          }
        },
        "d2fefbf8d6e445968923a92e155bc591": {
          "model_module": "@jupyter-widgets/controls",
          "model_module_version": "1.5.0",
          "model_name": "FloatProgressModel",
          "state": {
            "_dom_classes": [],
            "_model_module": "@jupyter-widgets/controls",
            "_model_module_version": "1.5.0",
            "_model_name": "FloatProgressModel",
            "_view_count": null,
            "_view_module": "@jupyter-widgets/controls",
            "_view_module_version": "1.5.0",
            "_view_name": "ProgressView",
            "bar_style": "success",
            "description": "",
            "description_tooltip": null,
            "layout": "IPY_MODEL_92dcaf9308a64165b2a411bcf142568a",
            "max": 1385,
            "min": 0,
            "orientation": "horizontal",
            "style": "IPY_MODEL_2f3db173a4bd4d1e972f8bb9a278c8ab",
            "value": 1385
          }
        },
        "d97f873cd9ec48e4b0c5f5cd7d82e79d": {
          "model_module": "@jupyter-widgets/base",
          "model_module_version": "1.2.0",
          "model_name": "LayoutModel",
          "state": {
            "_model_module": "@jupyter-widgets/base",
            "_model_module_version": "1.2.0",
            "_model_name": "LayoutModel",
            "_view_count": null,
            "_view_module": "@jupyter-widgets/base",
            "_view_module_version": "1.2.0",
            "_view_name": "LayoutView",
            "align_content": null,
            "align_items": null,
            "align_self": null,
            "border": null,
            "bottom": null,
            "display": null,
            "flex": null,
            "flex_flow": null,
            "grid_area": null,
            "grid_auto_columns": null,
            "grid_auto_flow": null,
            "grid_auto_rows": null,
            "grid_column": null,
            "grid_gap": null,
            "grid_row": null,
            "grid_template_areas": null,
            "grid_template_columns": null,
            "grid_template_rows": null,
            "height": null,
            "justify_content": null,
            "justify_items": null,
            "left": null,
            "margin": null,
            "max_height": null,
            "max_width": null,
            "min_height": null,
            "min_width": null,
            "object_fit": null,
            "object_position": null,
            "order": null,
            "overflow": null,
            "overflow_x": null,
            "overflow_y": null,
            "padding": null,
            "right": null,
            "top": null,
            "visibility": null,
            "width": null
          }
        },
        "db23aee9ad974d83b3900f0b49f2fc7a": {
          "model_module": "@jupyter-widgets/base",
          "model_module_version": "1.2.0",
          "model_name": "LayoutModel",
          "state": {
            "_model_module": "@jupyter-widgets/base",
            "_model_module_version": "1.2.0",
            "_model_name": "LayoutModel",
            "_view_count": null,
            "_view_module": "@jupyter-widgets/base",
            "_view_module_version": "1.2.0",
            "_view_name": "LayoutView",
            "align_content": null,
            "align_items": null,
            "align_self": null,
            "border": null,
            "bottom": null,
            "display": null,
            "flex": null,
            "flex_flow": null,
            "grid_area": null,
            "grid_auto_columns": null,
            "grid_auto_flow": null,
            "grid_auto_rows": null,
            "grid_column": null,
            "grid_gap": null,
            "grid_row": null,
            "grid_template_areas": null,
            "grid_template_columns": null,
            "grid_template_rows": null,
            "height": null,
            "justify_content": null,
            "justify_items": null,
            "left": null,
            "margin": null,
            "max_height": null,
            "max_width": null,
            "min_height": null,
            "min_width": null,
            "object_fit": null,
            "object_position": null,
            "order": null,
            "overflow": null,
            "overflow_x": null,
            "overflow_y": null,
            "padding": null,
            "right": null,
            "top": null,
            "visibility": null,
            "width": null
          }
        },
        "ef7bd4662f16423689ac02a1d9d85ef6": {
          "model_module": "@jupyter-widgets/base",
          "model_module_version": "1.2.0",
          "model_name": "LayoutModel",
          "state": {
            "_model_module": "@jupyter-widgets/base",
            "_model_module_version": "1.2.0",
            "_model_name": "LayoutModel",
            "_view_count": null,
            "_view_module": "@jupyter-widgets/base",
            "_view_module_version": "1.2.0",
            "_view_name": "LayoutView",
            "align_content": null,
            "align_items": null,
            "align_self": null,
            "border": null,
            "bottom": null,
            "display": null,
            "flex": null,
            "flex_flow": null,
            "grid_area": null,
            "grid_auto_columns": null,
            "grid_auto_flow": null,
            "grid_auto_rows": null,
            "grid_column": null,
            "grid_gap": null,
            "grid_row": null,
            "grid_template_areas": null,
            "grid_template_columns": null,
            "grid_template_rows": null,
            "height": null,
            "justify_content": null,
            "justify_items": null,
            "left": null,
            "margin": null,
            "max_height": null,
            "max_width": null,
            "min_height": null,
            "min_width": null,
            "object_fit": null,
            "object_position": null,
            "order": null,
            "overflow": null,
            "overflow_x": null,
            "overflow_y": null,
            "padding": null,
            "right": null,
            "top": null,
            "visibility": null,
            "width": null
          }
        },
        "f069150f49a84a21b22e47af9734ef0d": {
          "model_module": "@jupyter-widgets/base",
          "model_module_version": "1.2.0",
          "model_name": "LayoutModel",
          "state": {
            "_model_module": "@jupyter-widgets/base",
            "_model_module_version": "1.2.0",
            "_model_name": "LayoutModel",
            "_view_count": null,
            "_view_module": "@jupyter-widgets/base",
            "_view_module_version": "1.2.0",
            "_view_name": "LayoutView",
            "align_content": null,
            "align_items": null,
            "align_self": null,
            "border": null,
            "bottom": null,
            "display": null,
            "flex": null,
            "flex_flow": null,
            "grid_area": null,
            "grid_auto_columns": null,
            "grid_auto_flow": null,
            "grid_auto_rows": null,
            "grid_column": null,
            "grid_gap": null,
            "grid_row": null,
            "grid_template_areas": null,
            "grid_template_columns": null,
            "grid_template_rows": null,
            "height": null,
            "justify_content": null,
            "justify_items": null,
            "left": null,
            "margin": null,
            "max_height": null,
            "max_width": null,
            "min_height": null,
            "min_width": null,
            "object_fit": null,
            "object_position": null,
            "order": null,
            "overflow": null,
            "overflow_x": null,
            "overflow_y": null,
            "padding": null,
            "right": null,
            "top": null,
            "visibility": null,
            "width": null
          }
        },
        "fc16c97e605346beaa13e151691b32cb": {
          "model_module": "@jupyter-widgets/controls",
          "model_module_version": "1.5.0",
          "model_name": "HBoxModel",
          "state": {
            "_dom_classes": [],
            "_model_module": "@jupyter-widgets/controls",
            "_model_module_version": "1.5.0",
            "_model_name": "HBoxModel",
            "_view_count": null,
            "_view_module": "@jupyter-widgets/controls",
            "_view_module_version": "1.5.0",
            "_view_name": "HBoxView",
            "box_style": "",
            "children": [
              "IPY_MODEL_068bbe930d4e47deb37b4c438f0e94c0",
              "IPY_MODEL_d2fefbf8d6e445968923a92e155bc591",
              "IPY_MODEL_abddc07498df4149b452a75feec8344c"
            ],
            "layout": "IPY_MODEL_b43fa7d05a2c43e8a207ef45e3e8f401"
          }
        }
      }
    }
  },
  "nbformat": 4,
  "nbformat_minor": 0
}
